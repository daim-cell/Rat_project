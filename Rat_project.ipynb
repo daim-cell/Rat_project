{
 "cells": [
  {
   "cell_type": "code",
   "execution_count": 199,
   "metadata": {},
   "outputs": [],
   "source": [
    "import pandas as pd\n",
    "import numpy as np\n",
    "import matplotlib.pyplot as plt\n",
    "import seaborn as sns\n",
    "from sklearn.model_selection import train_test_split\n",
    "from keras.models import Sequential\n",
    "from keras.layers import Dense\n",
    "from sklearn.ensemble import RandomForestClassifier\n",
    "from sklearn.feature_selection import SelectFromModel"
   ]
  },
  {
   "cell_type": "code",
   "execution_count": 155,
   "metadata": {},
   "outputs": [
    {
     "data": {
      "text/html": [
       "<div>\n",
       "<style scoped>\n",
       "    .dataframe tbody tr th:only-of-type {\n",
       "        vertical-align: middle;\n",
       "    }\n",
       "\n",
       "    .dataframe tbody tr th {\n",
       "        vertical-align: top;\n",
       "    }\n",
       "\n",
       "    .dataframe thead th {\n",
       "        text-align: right;\n",
       "    }\n",
       "</style>\n",
       "<table border=\"1\" class=\"dataframe\">\n",
       "  <thead>\n",
       "    <tr style=\"text-align: right;\">\n",
       "      <th></th>\n",
       "      <th>id</th>\n",
       "      <th>gender</th>\n",
       "      <th>age</th>\n",
       "      <th>hypertension</th>\n",
       "      <th>heart_disease</th>\n",
       "      <th>ever_married</th>\n",
       "      <th>work_type</th>\n",
       "      <th>Residence_type</th>\n",
       "      <th>avg_glucose_level</th>\n",
       "      <th>bmi</th>\n",
       "      <th>smoking_status</th>\n",
       "      <th>stroke</th>\n",
       "    </tr>\n",
       "  </thead>\n",
       "  <tbody>\n",
       "    <tr>\n",
       "      <th>0</th>\n",
       "      <td>9046</td>\n",
       "      <td>Male</td>\n",
       "      <td>67.0</td>\n",
       "      <td>0</td>\n",
       "      <td>1</td>\n",
       "      <td>Yes</td>\n",
       "      <td>Private</td>\n",
       "      <td>Urban</td>\n",
       "      <td>228.69</td>\n",
       "      <td>36.6</td>\n",
       "      <td>formerly smoked</td>\n",
       "      <td>1</td>\n",
       "    </tr>\n",
       "    <tr>\n",
       "      <th>1</th>\n",
       "      <td>51676</td>\n",
       "      <td>Female</td>\n",
       "      <td>61.0</td>\n",
       "      <td>0</td>\n",
       "      <td>0</td>\n",
       "      <td>Yes</td>\n",
       "      <td>Self-employed</td>\n",
       "      <td>Rural</td>\n",
       "      <td>202.21</td>\n",
       "      <td>NaN</td>\n",
       "      <td>never smoked</td>\n",
       "      <td>1</td>\n",
       "    </tr>\n",
       "    <tr>\n",
       "      <th>2</th>\n",
       "      <td>31112</td>\n",
       "      <td>Male</td>\n",
       "      <td>80.0</td>\n",
       "      <td>0</td>\n",
       "      <td>1</td>\n",
       "      <td>Yes</td>\n",
       "      <td>Private</td>\n",
       "      <td>Rural</td>\n",
       "      <td>105.92</td>\n",
       "      <td>32.5</td>\n",
       "      <td>never smoked</td>\n",
       "      <td>1</td>\n",
       "    </tr>\n",
       "    <tr>\n",
       "      <th>3</th>\n",
       "      <td>60182</td>\n",
       "      <td>Female</td>\n",
       "      <td>49.0</td>\n",
       "      <td>0</td>\n",
       "      <td>0</td>\n",
       "      <td>Yes</td>\n",
       "      <td>Private</td>\n",
       "      <td>Urban</td>\n",
       "      <td>171.23</td>\n",
       "      <td>34.4</td>\n",
       "      <td>smokes</td>\n",
       "      <td>1</td>\n",
       "    </tr>\n",
       "    <tr>\n",
       "      <th>4</th>\n",
       "      <td>1665</td>\n",
       "      <td>Female</td>\n",
       "      <td>79.0</td>\n",
       "      <td>1</td>\n",
       "      <td>0</td>\n",
       "      <td>Yes</td>\n",
       "      <td>Self-employed</td>\n",
       "      <td>Rural</td>\n",
       "      <td>174.12</td>\n",
       "      <td>24.0</td>\n",
       "      <td>never smoked</td>\n",
       "      <td>1</td>\n",
       "    </tr>\n",
       "  </tbody>\n",
       "</table>\n",
       "</div>"
      ],
      "text/plain": [
       "      id  gender   age  hypertension  heart_disease ever_married  \\\n",
       "0   9046    Male  67.0             0              1          Yes   \n",
       "1  51676  Female  61.0             0              0          Yes   \n",
       "2  31112    Male  80.0             0              1          Yes   \n",
       "3  60182  Female  49.0             0              0          Yes   \n",
       "4   1665  Female  79.0             1              0          Yes   \n",
       "\n",
       "       work_type Residence_type  avg_glucose_level   bmi   smoking_status  \\\n",
       "0        Private          Urban             228.69  36.6  formerly smoked   \n",
       "1  Self-employed          Rural             202.21   NaN     never smoked   \n",
       "2        Private          Rural             105.92  32.5     never smoked   \n",
       "3        Private          Urban             171.23  34.4           smokes   \n",
       "4  Self-employed          Rural             174.12  24.0     never smoked   \n",
       "\n",
       "   stroke  \n",
       "0       1  \n",
       "1       1  \n",
       "2       1  \n",
       "3       1  \n",
       "4       1  "
      ]
     },
     "execution_count": 155,
     "metadata": {},
     "output_type": "execute_result"
    }
   ],
   "source": [
    "df = pd.read_csv('healthcare-dataset-stroke-data.csv')\n",
    "df.head()"
   ]
  },
  {
   "cell_type": "markdown",
   "metadata": {},
   "source": [
    "## Data Cleansing"
   ]
  },
  {
   "cell_type": "code",
   "execution_count": 156,
   "metadata": {},
   "outputs": [
    {
     "name": "stdout",
     "output_type": "stream",
     "text": [
      "<class 'pandas.core.frame.DataFrame'>\n",
      "RangeIndex: 5110 entries, 0 to 5109\n",
      "Data columns (total 12 columns):\n",
      " #   Column             Non-Null Count  Dtype  \n",
      "---  ------             --------------  -----  \n",
      " 0   id                 5110 non-null   int64  \n",
      " 1   gender             5110 non-null   object \n",
      " 2   age                5110 non-null   float64\n",
      " 3   hypertension       5110 non-null   int64  \n",
      " 4   heart_disease      5110 non-null   int64  \n",
      " 5   ever_married       5110 non-null   object \n",
      " 6   work_type          5110 non-null   object \n",
      " 7   Residence_type     5110 non-null   object \n",
      " 8   avg_glucose_level  5110 non-null   float64\n",
      " 9   bmi                4909 non-null   float64\n",
      " 10  smoking_status     5110 non-null   object \n",
      " 11  stroke             5110 non-null   int64  \n",
      "dtypes: float64(3), int64(4), object(5)\n",
      "memory usage: 479.2+ KB\n"
     ]
    }
   ],
   "source": [
    "df.info()"
   ]
  },
  {
   "cell_type": "code",
   "execution_count": 157,
   "metadata": {},
   "outputs": [],
   "source": [
    "#As bmi contains null values\n",
    "df.bmi = df.bmi.fillna(-99)"
   ]
  },
  {
   "cell_type": "code",
   "execution_count": 158,
   "metadata": {},
   "outputs": [
    {
     "name": "stdout",
     "output_type": "stream",
     "text": [
      "0    4861\n",
      "1     249\n",
      "Name: stroke, dtype: int64\n",
      "Percentage of strokes [1]: 4.87 %\n"
     ]
    }
   ],
   "source": [
    "# define target variable\n",
    "target = df.stroke\n",
    "\n",
    "\n",
    "# calc frequencies\n",
    "target_count = target.value_counts()\n",
    "print(target_count)\n",
    "print('Percentage of strokes [1]:', np.round(100*target_count[1] / target_count.sum(),2), '%')"
   ]
  },
  {
   "cell_type": "code",
   "execution_count": 159,
   "metadata": {},
   "outputs": [],
   "source": [
    "df1 = df \n",
    "ever_married_mapping = {'No': 0, 'Yes': 1}\n",
    "df1['ever_married'] = df['ever_married'].map(ever_married_mapping)\n",
    "Residence_type_mapping = {'Rural': 0, 'Urban': 1}\n",
    "df1['Residence_type'] = df['Residence_type'].map(Residence_type_mapping)\n",
    "\n",
    "datasetDummies_gender = pd.get_dummies(df['gender'], prefix = 'gender_encoded')\n",
    "datasetDummies_work_type = pd.get_dummies(df['work_type'], prefix = 'work_type_encoded') \n",
    "datasetDummies_smoking_status = pd.get_dummies(df['smoking_status'], prefix = 'smoking_status_encoded')\n",
    "\n",
    "target1 = pd.get_dummies(target, prefix = 'target')\n",
    "\n",
    "df1.drop(\"gender\", axis=1, inplace=True)\n",
    "df1.drop(\"work_type\", axis=1, inplace=True)\n",
    "df1.drop(\"smoking_status\", axis=1, inplace=True)\n",
    "df1.drop(\"stroke\", axis=1, inplace=True)"
   ]
  },
  {
   "cell_type": "code",
   "execution_count": 160,
   "metadata": {},
   "outputs": [
    {
     "data": {
      "text/html": [
       "<div>\n",
       "<style scoped>\n",
       "    .dataframe tbody tr th:only-of-type {\n",
       "        vertical-align: middle;\n",
       "    }\n",
       "\n",
       "    .dataframe tbody tr th {\n",
       "        vertical-align: top;\n",
       "    }\n",
       "\n",
       "    .dataframe thead th {\n",
       "        text-align: right;\n",
       "    }\n",
       "</style>\n",
       "<table border=\"1\" class=\"dataframe\">\n",
       "  <thead>\n",
       "    <tr style=\"text-align: right;\">\n",
       "      <th></th>\n",
       "      <th>id</th>\n",
       "      <th>age</th>\n",
       "      <th>hypertension</th>\n",
       "      <th>heart_disease</th>\n",
       "      <th>ever_married</th>\n",
       "      <th>Residence_type</th>\n",
       "      <th>avg_glucose_level</th>\n",
       "      <th>bmi</th>\n",
       "      <th>gender_encoded_Female</th>\n",
       "      <th>gender_encoded_Male</th>\n",
       "      <th>gender_encoded_Other</th>\n",
       "      <th>work_type_encoded_Govt_job</th>\n",
       "      <th>work_type_encoded_Never_worked</th>\n",
       "      <th>work_type_encoded_Private</th>\n",
       "      <th>work_type_encoded_Self-employed</th>\n",
       "      <th>work_type_encoded_children</th>\n",
       "      <th>smoking_status_encoded_Unknown</th>\n",
       "      <th>smoking_status_encoded_formerly smoked</th>\n",
       "      <th>smoking_status_encoded_never smoked</th>\n",
       "      <th>smoking_status_encoded_smokes</th>\n",
       "    </tr>\n",
       "  </thead>\n",
       "  <tbody>\n",
       "    <tr>\n",
       "      <th>0</th>\n",
       "      <td>9046</td>\n",
       "      <td>67.0</td>\n",
       "      <td>0</td>\n",
       "      <td>1</td>\n",
       "      <td>1</td>\n",
       "      <td>1</td>\n",
       "      <td>228.69</td>\n",
       "      <td>36.6</td>\n",
       "      <td>0</td>\n",
       "      <td>1</td>\n",
       "      <td>0</td>\n",
       "      <td>0</td>\n",
       "      <td>0</td>\n",
       "      <td>1</td>\n",
       "      <td>0</td>\n",
       "      <td>0</td>\n",
       "      <td>0</td>\n",
       "      <td>1</td>\n",
       "      <td>0</td>\n",
       "      <td>0</td>\n",
       "    </tr>\n",
       "    <tr>\n",
       "      <th>1</th>\n",
       "      <td>51676</td>\n",
       "      <td>61.0</td>\n",
       "      <td>0</td>\n",
       "      <td>0</td>\n",
       "      <td>1</td>\n",
       "      <td>0</td>\n",
       "      <td>202.21</td>\n",
       "      <td>-99.0</td>\n",
       "      <td>1</td>\n",
       "      <td>0</td>\n",
       "      <td>0</td>\n",
       "      <td>0</td>\n",
       "      <td>0</td>\n",
       "      <td>0</td>\n",
       "      <td>1</td>\n",
       "      <td>0</td>\n",
       "      <td>0</td>\n",
       "      <td>0</td>\n",
       "      <td>1</td>\n",
       "      <td>0</td>\n",
       "    </tr>\n",
       "    <tr>\n",
       "      <th>2</th>\n",
       "      <td>31112</td>\n",
       "      <td>80.0</td>\n",
       "      <td>0</td>\n",
       "      <td>1</td>\n",
       "      <td>1</td>\n",
       "      <td>0</td>\n",
       "      <td>105.92</td>\n",
       "      <td>32.5</td>\n",
       "      <td>0</td>\n",
       "      <td>1</td>\n",
       "      <td>0</td>\n",
       "      <td>0</td>\n",
       "      <td>0</td>\n",
       "      <td>1</td>\n",
       "      <td>0</td>\n",
       "      <td>0</td>\n",
       "      <td>0</td>\n",
       "      <td>0</td>\n",
       "      <td>1</td>\n",
       "      <td>0</td>\n",
       "    </tr>\n",
       "    <tr>\n",
       "      <th>3</th>\n",
       "      <td>60182</td>\n",
       "      <td>49.0</td>\n",
       "      <td>0</td>\n",
       "      <td>0</td>\n",
       "      <td>1</td>\n",
       "      <td>1</td>\n",
       "      <td>171.23</td>\n",
       "      <td>34.4</td>\n",
       "      <td>1</td>\n",
       "      <td>0</td>\n",
       "      <td>0</td>\n",
       "      <td>0</td>\n",
       "      <td>0</td>\n",
       "      <td>1</td>\n",
       "      <td>0</td>\n",
       "      <td>0</td>\n",
       "      <td>0</td>\n",
       "      <td>0</td>\n",
       "      <td>0</td>\n",
       "      <td>1</td>\n",
       "    </tr>\n",
       "    <tr>\n",
       "      <th>4</th>\n",
       "      <td>1665</td>\n",
       "      <td>79.0</td>\n",
       "      <td>1</td>\n",
       "      <td>0</td>\n",
       "      <td>1</td>\n",
       "      <td>0</td>\n",
       "      <td>174.12</td>\n",
       "      <td>24.0</td>\n",
       "      <td>1</td>\n",
       "      <td>0</td>\n",
       "      <td>0</td>\n",
       "      <td>0</td>\n",
       "      <td>0</td>\n",
       "      <td>0</td>\n",
       "      <td>1</td>\n",
       "      <td>0</td>\n",
       "      <td>0</td>\n",
       "      <td>0</td>\n",
       "      <td>1</td>\n",
       "      <td>0</td>\n",
       "    </tr>\n",
       "  </tbody>\n",
       "</table>\n",
       "</div>"
      ],
      "text/plain": [
       "      id   age  hypertension  heart_disease  ever_married  Residence_type  \\\n",
       "0   9046  67.0             0              1             1               1   \n",
       "1  51676  61.0             0              0             1               0   \n",
       "2  31112  80.0             0              1             1               0   \n",
       "3  60182  49.0             0              0             1               1   \n",
       "4   1665  79.0             1              0             1               0   \n",
       "\n",
       "   avg_glucose_level   bmi  gender_encoded_Female  gender_encoded_Male  \\\n",
       "0             228.69  36.6                      0                    1   \n",
       "1             202.21 -99.0                      1                    0   \n",
       "2             105.92  32.5                      0                    1   \n",
       "3             171.23  34.4                      1                    0   \n",
       "4             174.12  24.0                      1                    0   \n",
       "\n",
       "   gender_encoded_Other  work_type_encoded_Govt_job  \\\n",
       "0                     0                           0   \n",
       "1                     0                           0   \n",
       "2                     0                           0   \n",
       "3                     0                           0   \n",
       "4                     0                           0   \n",
       "\n",
       "   work_type_encoded_Never_worked  work_type_encoded_Private  \\\n",
       "0                               0                          1   \n",
       "1                               0                          0   \n",
       "2                               0                          1   \n",
       "3                               0                          1   \n",
       "4                               0                          0   \n",
       "\n",
       "   work_type_encoded_Self-employed  work_type_encoded_children  \\\n",
       "0                                0                           0   \n",
       "1                                1                           0   \n",
       "2                                0                           0   \n",
       "3                                0                           0   \n",
       "4                                1                           0   \n",
       "\n",
       "   smoking_status_encoded_Unknown  smoking_status_encoded_formerly smoked  \\\n",
       "0                               0                                       1   \n",
       "1                               0                                       0   \n",
       "2                               0                                       0   \n",
       "3                               0                                       0   \n",
       "4                               0                                       0   \n",
       "\n",
       "   smoking_status_encoded_never smoked  smoking_status_encoded_smokes  \n",
       "0                                    0                              0  \n",
       "1                                    1                              0  \n",
       "2                                    1                              0  \n",
       "3                                    0                              1  \n",
       "4                                    1                              0  "
      ]
     },
     "execution_count": 160,
     "metadata": {},
     "output_type": "execute_result"
    }
   ],
   "source": [
    "df1 = pd.concat([df1, datasetDummies_gender], axis=1)\n",
    "df1 = pd.concat([df1, datasetDummies_work_type], axis=1)\n",
    "df1 = pd.concat([df1, datasetDummies_smoking_status], axis=1)\n",
    "df1.head()"
   ]
  },
  {
   "cell_type": "code",
   "execution_count": 216,
   "metadata": {},
   "outputs": [
    {
     "data": {
      "image/png": "[encoded data removed]",
      "text/plain": [
       "<Figure size 432x288 with 1 Axes>"
      ]
     },
     "metadata": {
      "needs_background": "light"
     },
     "output_type": "display_data"
    }
   ],
   "source": [
    "target_count.plot(kind='bar')\n",
    "plt.title('Target = Stroke')\n",
    "plt.grid()\n",
    "plt.show()\n",
    "\n",
    "X_train, X_test, y_train, y_test = train_test_split(df1.iloc[:,1:], target1, test_size=0.30, random_state=42)"
   ]
  },
  {
   "cell_type": "markdown",
   "metadata": {},
   "source": [
    "## Feature Engineering"
   ]
  },
  {
   "cell_type": "code",
   "execution_count": 217,
   "metadata": {},
   "outputs": [
    {
     "name": "stderr",
     "output_type": "stream",
     "text": [
      "C:\\Users\\Daim\\Anaconda3\\lib\\site-packages\\sklearn\\ensemble\\forest.py:245: FutureWarning: The default value of n_estimators will change from 10 in version 0.20 to 100 in 0.22.\n",
      "  \"10 in version 0.20 to 100 in 0.22.\", FutureWarning)\n"
     ]
    },
    {
     "name": "stdout",
     "output_type": "stream",
     "text": [
      "Old Shape: (3577, 19) New shape: (3577, 3)\n",
      "\n",
      "\n"
     ]
    },
    {
     "data": {
      "image/png": "[encoded data removed]",
      "text/plain": [
       "<Figure size 720x288 with 1 Axes>"
      ]
     },
     "metadata": {
      "needs_background": "light"
     },
     "output_type": "display_data"
    }
   ],
   "source": [
    "model = RandomForestClassifier()\n",
    "model.fit(X_train, y_train)\n",
    "  \n",
    "best_features = SelectFromModel(model)\n",
    "best_features.fit(X_train, y_train)\n",
    "features = df1.columns[1:]\n",
    "transformedX = best_features.transform(X_train)\n",
    "print(f\"Old Shape: {X_train.shape} New shape: {transformedX.shape}\")\n",
    "print(\"\\n\")\n",
    "imp_feature = pd.DataFrame({'Feature': features, 'Importance': model.feature_importances_})\n",
    "plt.figure(figsize=(10,4))\n",
    "plt.title(\"Feature Importance Graphic\")\n",
    "plt.xlabel(\"importance \")\n",
    "plt.ylabel(\"features\")\n",
    "plt.barh(imp_feature['Feature'],imp_feature['Importance'],color = 'rgbkymc')\n",
    "plt.show()\n",
    "X_train = X_train[['bmi', 'avg_glucose_level', 'age']]"
   ]
  },
  {
   "cell_type": "markdown",
   "metadata": {},
   "source": [
    "Will use only the three most impotant features namely bmi, avg_glucose_level and age"
   ]
  },
  {
   "cell_type": "markdown",
   "metadata": {},
   "source": [
    "## Model building"
   ]
  },
  {
   "cell_type": "code",
   "execution_count": 219,
   "metadata": {},
   "outputs": [
    {
     "name": "stdout",
     "output_type": "stream",
     "text": [
      "Epoch 1/10\n",
      "3577/3577 [==============================] - 5s 1ms/step - loss: 2.5448 - accuracy: 0.6925\n",
      "Epoch 2/10\n",
      "3577/3577 [==============================] - 1s 241us/step - loss: 0.2199 - accuracy: 0.95420s - loss: 0.2\n",
      "Epoch 3/10\n",
      "3577/3577 [==============================] - 1s 332us/step - loss: 0.2115 - accuracy: 0.9544\n",
      "Epoch 4/10\n",
      "3577/3577 [==============================] - 1s 296us/step - loss: 0.2032 - accuracy: 0.9553\n",
      "Epoch 5/10\n",
      "3577/3577 [==============================] - 1s 378us/step - loss: 0.1898 - accuracy: 0.95470s - loss: 0.1875 - accu - ETA: 0s - loss: 0.1792 - accuracy:  - ETA: 0s - loss: 0.1859 - accu\n",
      "Epoch 6/10\n",
      "3577/3577 [==============================] - 1s 281us/step - loss: 0.1761 - accuracy: 0.9555\n",
      "Epoch 7/10\n",
      "3577/3577 [==============================] - 1s 300us/step - loss: 0.1714 - accuracy: 0.9555\n",
      "Epoch 8/10\n",
      "3577/3577 [==============================] - 1s 329us/step - loss: 0.1690 - accuracy: 0.9555\n",
      "Epoch 9/10\n",
      "3577/3577 [==============================] - 1s 268us/step - loss: 0.1675 - accuracy: 0.9547\n",
      "Epoch 10/10\n",
      "3577/3577 [==============================] - 1s 274us/step - loss: 0.1659 - accuracy: 0.9550\n"
     ]
    },
    {
     "data": {
      "text/plain": [
       "<keras.callbacks.callbacks.History at 0x1f085ed7cc8>"
      ]
     },
     "execution_count": 219,
     "metadata": {},
     "output_type": "execute_result"
    }
   ],
   "source": [
    "model = Sequential()\n",
    "model.add(Dense(32, input_dim=3, activation='relu'))\n",
    "model.add(Dense(16, activation='relu'))\n",
    "model.add(Dense(8, activation='relu'))\n",
    "model.add(Dense(2, activation='softmax'))\n",
    "\n",
    "model.compile(loss='binary_crossentropy', optimizer='adam', metrics=['accuracy'])\n",
    "\n",
    "model.fit(X_train, y_train, epochs=10, batch_size=32)"
   ]
  },
  {
   "cell_type": "code",
   "execution_count": 221,
   "metadata": {},
   "outputs": [
    {
     "name": "stdout",
     "output_type": "stream",
     "text": [
      "[0.9679633  0.03203674] \n",
      " target_0    1\n",
      "target_1    0\n",
      "Name: 4688, dtype: uint8\n"
     ]
    }
   ],
   "source": [
    "prediction = model.predict(X_test[['bmi', 'avg_glucose_level', 'age']])\n",
    "print(prediction[0], '\\n',y_test.iloc[0])"
   ]
  },
  {
   "cell_type": "markdown",
   "metadata": {},
   "source": [
    "The predicted array have 2 values for each observation which is actually the probability of whether the stroke happens or not.  "
   ]
  },
  {
   "cell_type": "code",
   "execution_count": 244,
   "metadata": {},
   "outputs": [],
   "source": [
    "from itertools import combinations\n",
    "def powerset(string):\n",
    "    lis = []\n",
    "    count = 0\n",
    "    for i in range(1,len(string)+1):\n",
    "        for element in combinations(string,i):\n",
    "            lis.append(element)\n",
    "    return lis"
   ]
  },
  {
   "cell_type": "code",
   "execution_count": 249,
   "metadata": {},
   "outputs": [],
   "source": [
    "def directkb(data):\n",
    "    counts=dict()\n",
    "    kb = []\n",
    "    rang = len(data)\n",
    "    for i in range(0,rang):\n",
    "        feaVal = data.iloc[i]\n",
    "        \n",
    "        print(feaVal[0])\n",
    "        label= target[i]\n",
    "        s = powerset(feaVal)\n",
    "        print(s)\n",
    "    "
   ]
  },
  {
   "cell_type": "code",
   "execution_count": 250,
   "metadata": {},
   "outputs": [
    {
     "name": "stdout",
     "output_type": "stream",
     "text": [
      "16.2\n",
      "[(16.2,), (90.42,), (4.0,), (16.2, 90.42), (16.2, 4.0), (90.42, 4.0), (16.2, 90.42, 4.0)]\n"
     ]
    }
   ],
   "source": [
    "directkb(X_train.iloc[:1,:])"
   ]
  }
 ],
 "metadata": {
  "kernelspec": {
   "display_name": "Python 3",
   "language": "python",
   "name": "python3"
  },
  "language_info": {
   "codemirror_mode": {
    "name": "ipython",
    "version": 3
   },
   "file_extension": ".py",
   "mimetype": "text/x-python",
   "name": "python",
   "nbconvert_exporter": "python",
   "pygments_lexer": "ipython3",
   "version": "3.7.4"
  }
 },
 "nbformat": 4,
 "nbformat_minor": 2
}
