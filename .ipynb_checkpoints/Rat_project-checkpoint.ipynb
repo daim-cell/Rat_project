{
 "cells": [
  {
   "cell_type": "code",
   "execution_count": 312,
   "metadata": {},
   "outputs": [],
   "source": [
    "import pandas as pd\n",
    "import numpy as np\n",
    "import matplotlib.pyplot as plt\n",
    "import seaborn as sns\n",
    "from sklearn.model_selection import train_test_split\n",
    "from keras.models import Sequential\n",
    "from keras.layers import Dense\n",
    "from sklearn.ensemble import RandomForestClassifier\n",
    "from sklearn.feature_selection import SelectFromModel"
   ]
  },
  {
   "cell_type": "code",
   "execution_count": 313,
   "metadata": {},
   "outputs": [
    {
     "data": {
      "text/html": [
       "<div>\n",
       "<style scoped>\n",
       "    .dataframe tbody tr th:only-of-type {\n",
       "        vertical-align: middle;\n",
       "    }\n",
       "\n",
       "    .dataframe tbody tr th {\n",
       "        vertical-align: top;\n",
       "    }\n",
       "\n",
       "    .dataframe thead th {\n",
       "        text-align: right;\n",
       "    }\n",
       "</style>\n",
       "<table border=\"1\" class=\"dataframe\">\n",
       "  <thead>\n",
       "    <tr style=\"text-align: right;\">\n",
       "      <th></th>\n",
       "      <th>id</th>\n",
       "      <th>gender</th>\n",
       "      <th>age</th>\n",
       "      <th>hypertension</th>\n",
       "      <th>heart_disease</th>\n",
       "      <th>ever_married</th>\n",
       "      <th>work_type</th>\n",
       "      <th>Residence_type</th>\n",
       "      <th>avg_glucose_level</th>\n",
       "      <th>bmi</th>\n",
       "      <th>smoking_status</th>\n",
       "      <th>stroke</th>\n",
       "    </tr>\n",
       "  </thead>\n",
       "  <tbody>\n",
       "    <tr>\n",
       "      <th>0</th>\n",
       "      <td>9046</td>\n",
       "      <td>Male</td>\n",
       "      <td>67.0</td>\n",
       "      <td>0</td>\n",
       "      <td>1</td>\n",
       "      <td>Yes</td>\n",
       "      <td>Private</td>\n",
       "      <td>Urban</td>\n",
       "      <td>228.69</td>\n",
       "      <td>36.6</td>\n",
       "      <td>formerly smoked</td>\n",
       "      <td>1</td>\n",
       "    </tr>\n",
       "    <tr>\n",
       "      <th>1</th>\n",
       "      <td>51676</td>\n",
       "      <td>Female</td>\n",
       "      <td>61.0</td>\n",
       "      <td>0</td>\n",
       "      <td>0</td>\n",
       "      <td>Yes</td>\n",
       "      <td>Self-employed</td>\n",
       "      <td>Rural</td>\n",
       "      <td>202.21</td>\n",
       "      <td>NaN</td>\n",
       "      <td>never smoked</td>\n",
       "      <td>1</td>\n",
       "    </tr>\n",
       "    <tr>\n",
       "      <th>2</th>\n",
       "      <td>31112</td>\n",
       "      <td>Male</td>\n",
       "      <td>80.0</td>\n",
       "      <td>0</td>\n",
       "      <td>1</td>\n",
       "      <td>Yes</td>\n",
       "      <td>Private</td>\n",
       "      <td>Rural</td>\n",
       "      <td>105.92</td>\n",
       "      <td>32.5</td>\n",
       "      <td>never smoked</td>\n",
       "      <td>1</td>\n",
       "    </tr>\n",
       "    <tr>\n",
       "      <th>3</th>\n",
       "      <td>60182</td>\n",
       "      <td>Female</td>\n",
       "      <td>49.0</td>\n",
       "      <td>0</td>\n",
       "      <td>0</td>\n",
       "      <td>Yes</td>\n",
       "      <td>Private</td>\n",
       "      <td>Urban</td>\n",
       "      <td>171.23</td>\n",
       "      <td>34.4</td>\n",
       "      <td>smokes</td>\n",
       "      <td>1</td>\n",
       "    </tr>\n",
       "    <tr>\n",
       "      <th>4</th>\n",
       "      <td>1665</td>\n",
       "      <td>Female</td>\n",
       "      <td>79.0</td>\n",
       "      <td>1</td>\n",
       "      <td>0</td>\n",
       "      <td>Yes</td>\n",
       "      <td>Self-employed</td>\n",
       "      <td>Rural</td>\n",
       "      <td>174.12</td>\n",
       "      <td>24.0</td>\n",
       "      <td>never smoked</td>\n",
       "      <td>1</td>\n",
       "    </tr>\n",
       "  </tbody>\n",
       "</table>\n",
       "</div>"
      ],
      "text/plain": [
       "      id  gender   age  hypertension  heart_disease ever_married  \\\n",
       "0   9046    Male  67.0             0              1          Yes   \n",
       "1  51676  Female  61.0             0              0          Yes   \n",
       "2  31112    Male  80.0             0              1          Yes   \n",
       "3  60182  Female  49.0             0              0          Yes   \n",
       "4   1665  Female  79.0             1              0          Yes   \n",
       "\n",
       "       work_type Residence_type  avg_glucose_level   bmi   smoking_status  \\\n",
       "0        Private          Urban             228.69  36.6  formerly smoked   \n",
       "1  Self-employed          Rural             202.21   NaN     never smoked   \n",
       "2        Private          Rural             105.92  32.5     never smoked   \n",
       "3        Private          Urban             171.23  34.4           smokes   \n",
       "4  Self-employed          Rural             174.12  24.0     never smoked   \n",
       "\n",
       "   stroke  \n",
       "0       1  \n",
       "1       1  \n",
       "2       1  \n",
       "3       1  \n",
       "4       1  "
      ]
     },
     "execution_count": 313,
     "metadata": {},
     "output_type": "execute_result"
    }
   ],
   "source": [
    "df = pd.read_csv('healthcare-dataset-stroke-data.csv')\n",
    "df.head()"
   ]
  },
  {
   "cell_type": "markdown",
   "metadata": {},
   "source": [
    "## Data Cleansing"
   ]
  },
  {
   "cell_type": "code",
   "execution_count": 314,
   "metadata": {},
   "outputs": [
    {
     "name": "stdout",
     "output_type": "stream",
     "text": [
      "<class 'pandas.core.frame.DataFrame'>\n",
      "RangeIndex: 5110 entries, 0 to 5109\n",
      "Data columns (total 12 columns):\n",
      " #   Column             Non-Null Count  Dtype  \n",
      "---  ------             --------------  -----  \n",
      " 0   id                 5110 non-null   int64  \n",
      " 1   gender             5110 non-null   object \n",
      " 2   age                5110 non-null   float64\n",
      " 3   hypertension       5110 non-null   int64  \n",
      " 4   heart_disease      5110 non-null   int64  \n",
      " 5   ever_married       5110 non-null   object \n",
      " 6   work_type          5110 non-null   object \n",
      " 7   Residence_type     5110 non-null   object \n",
      " 8   avg_glucose_level  5110 non-null   float64\n",
      " 9   bmi                4909 non-null   float64\n",
      " 10  smoking_status     5110 non-null   object \n",
      " 11  stroke             5110 non-null   int64  \n",
      "dtypes: float64(3), int64(4), object(5)\n",
      "memory usage: 479.2+ KB\n"
     ]
    }
   ],
   "source": [
    "df.info()"
   ]
  },
  {
   "cell_type": "code",
   "execution_count": 315,
   "metadata": {},
   "outputs": [],
   "source": [
    "#As bmi contains null values\n",
    "df.bmi = df.bmi.fillna(-99)"
   ]
  },
  {
   "cell_type": "code",
   "execution_count": 316,
   "metadata": {},
   "outputs": [
    {
     "name": "stdout",
     "output_type": "stream",
     "text": [
      "0    4861\n",
      "1     249\n",
      "Name: stroke, dtype: int64\n",
      "Percentage of strokes [1]: 4.87 %\n"
     ]
    }
   ],
   "source": [
    "# define target variable\n",
    "target = df.stroke\n",
    "\n",
    "\n",
    "# calc frequencies\n",
    "target_count = target.value_counts()\n",
    "print(target_count)\n",
    "print('Percentage of strokes [1]:', np.round(100*target_count[1] / target_count.sum(),2), '%')"
   ]
  },
  {
   "cell_type": "code",
   "execution_count": 317,
   "metadata": {},
   "outputs": [],
   "source": [
    "df1 = df \n",
    "ever_married_mapping = {'No': 0, 'Yes': 1}\n",
    "df1['ever_married'] = df1['ever_married'].map(ever_married_mapping)\n",
    "Residence_type_mapping = {'Rural': 0, 'Urban': 1}\n",
    "df1['Residence_type'] = df1['Residence_type'].map(Residence_type_mapping)\n",
    "\n",
    "datasetDummies_gender = pd.get_dummies(df1['gender'], prefix = 'gender_encoded')\n",
    "datasetDummies_work_type = pd.get_dummies(df1['work_type'], prefix = 'work_type_encoded') \n",
    "datasetDummies_smoking_status = pd.get_dummies(df1['smoking_status'], prefix = 'smoking_status_encoded')\n",
    "\n",
    "target1 = pd.get_dummies(target, prefix = 'target')\n",
    "\n",
    "df1.drop(\"gender\", axis=1, inplace=True)\n",
    "df1.drop(\"work_type\", axis=1, inplace=True)\n",
    "df1.drop(\"smoking_status\", axis=1, inplace=True)\n",
    "df1.drop(\"stroke\", axis=1, inplace=True)"
   ]
  },
  {
   "cell_type": "code",
   "execution_count": 318,
   "metadata": {},
   "outputs": [
    {
     "data": {
      "text/html": [
       "<div>\n",
       "<style scoped>\n",
       "    .dataframe tbody tr th:only-of-type {\n",
       "        vertical-align: middle;\n",
       "    }\n",
       "\n",
       "    .dataframe tbody tr th {\n",
       "        vertical-align: top;\n",
       "    }\n",
       "\n",
       "    .dataframe thead th {\n",
       "        text-align: right;\n",
       "    }\n",
       "</style>\n",
       "<table border=\"1\" class=\"dataframe\">\n",
       "  <thead>\n",
       "    <tr style=\"text-align: right;\">\n",
       "      <th></th>\n",
       "      <th>id</th>\n",
       "      <th>age</th>\n",
       "      <th>hypertension</th>\n",
       "      <th>heart_disease</th>\n",
       "      <th>ever_married</th>\n",
       "      <th>Residence_type</th>\n",
       "      <th>avg_glucose_level</th>\n",
       "      <th>bmi</th>\n",
       "      <th>gender_encoded_Female</th>\n",
       "      <th>gender_encoded_Male</th>\n",
       "      <th>gender_encoded_Other</th>\n",
       "      <th>work_type_encoded_Govt_job</th>\n",
       "      <th>work_type_encoded_Never_worked</th>\n",
       "      <th>work_type_encoded_Private</th>\n",
       "      <th>work_type_encoded_Self-employed</th>\n",
       "      <th>work_type_encoded_children</th>\n",
       "      <th>smoking_status_encoded_Unknown</th>\n",
       "      <th>smoking_status_encoded_formerly smoked</th>\n",
       "      <th>smoking_status_encoded_never smoked</th>\n",
       "      <th>smoking_status_encoded_smokes</th>\n",
       "    </tr>\n",
       "  </thead>\n",
       "  <tbody>\n",
       "    <tr>\n",
       "      <th>0</th>\n",
       "      <td>9046</td>\n",
       "      <td>67.0</td>\n",
       "      <td>0</td>\n",
       "      <td>1</td>\n",
       "      <td>1</td>\n",
       "      <td>1</td>\n",
       "      <td>228.69</td>\n",
       "      <td>36.6</td>\n",
       "      <td>0</td>\n",
       "      <td>1</td>\n",
       "      <td>0</td>\n",
       "      <td>0</td>\n",
       "      <td>0</td>\n",
       "      <td>1</td>\n",
       "      <td>0</td>\n",
       "      <td>0</td>\n",
       "      <td>0</td>\n",
       "      <td>1</td>\n",
       "      <td>0</td>\n",
       "      <td>0</td>\n",
       "    </tr>\n",
       "    <tr>\n",
       "      <th>1</th>\n",
       "      <td>51676</td>\n",
       "      <td>61.0</td>\n",
       "      <td>0</td>\n",
       "      <td>0</td>\n",
       "      <td>1</td>\n",
       "      <td>0</td>\n",
       "      <td>202.21</td>\n",
       "      <td>-99.0</td>\n",
       "      <td>1</td>\n",
       "      <td>0</td>\n",
       "      <td>0</td>\n",
       "      <td>0</td>\n",
       "      <td>0</td>\n",
       "      <td>0</td>\n",
       "      <td>1</td>\n",
       "      <td>0</td>\n",
       "      <td>0</td>\n",
       "      <td>0</td>\n",
       "      <td>1</td>\n",
       "      <td>0</td>\n",
       "    </tr>\n",
       "    <tr>\n",
       "      <th>2</th>\n",
       "      <td>31112</td>\n",
       "      <td>80.0</td>\n",
       "      <td>0</td>\n",
       "      <td>1</td>\n",
       "      <td>1</td>\n",
       "      <td>0</td>\n",
       "      <td>105.92</td>\n",
       "      <td>32.5</td>\n",
       "      <td>0</td>\n",
       "      <td>1</td>\n",
       "      <td>0</td>\n",
       "      <td>0</td>\n",
       "      <td>0</td>\n",
       "      <td>1</td>\n",
       "      <td>0</td>\n",
       "      <td>0</td>\n",
       "      <td>0</td>\n",
       "      <td>0</td>\n",
       "      <td>1</td>\n",
       "      <td>0</td>\n",
       "    </tr>\n",
       "    <tr>\n",
       "      <th>3</th>\n",
       "      <td>60182</td>\n",
       "      <td>49.0</td>\n",
       "      <td>0</td>\n",
       "      <td>0</td>\n",
       "      <td>1</td>\n",
       "      <td>1</td>\n",
       "      <td>171.23</td>\n",
       "      <td>34.4</td>\n",
       "      <td>1</td>\n",
       "      <td>0</td>\n",
       "      <td>0</td>\n",
       "      <td>0</td>\n",
       "      <td>0</td>\n",
       "      <td>1</td>\n",
       "      <td>0</td>\n",
       "      <td>0</td>\n",
       "      <td>0</td>\n",
       "      <td>0</td>\n",
       "      <td>0</td>\n",
       "      <td>1</td>\n",
       "    </tr>\n",
       "    <tr>\n",
       "      <th>4</th>\n",
       "      <td>1665</td>\n",
       "      <td>79.0</td>\n",
       "      <td>1</td>\n",
       "      <td>0</td>\n",
       "      <td>1</td>\n",
       "      <td>0</td>\n",
       "      <td>174.12</td>\n",
       "      <td>24.0</td>\n",
       "      <td>1</td>\n",
       "      <td>0</td>\n",
       "      <td>0</td>\n",
       "      <td>0</td>\n",
       "      <td>0</td>\n",
       "      <td>0</td>\n",
       "      <td>1</td>\n",
       "      <td>0</td>\n",
       "      <td>0</td>\n",
       "      <td>0</td>\n",
       "      <td>1</td>\n",
       "      <td>0</td>\n",
       "    </tr>\n",
       "  </tbody>\n",
       "</table>\n",
       "</div>"
      ],
      "text/plain": [
       "      id   age  hypertension  heart_disease  ever_married  Residence_type  \\\n",
       "0   9046  67.0             0              1             1               1   \n",
       "1  51676  61.0             0              0             1               0   \n",
       "2  31112  80.0             0              1             1               0   \n",
       "3  60182  49.0             0              0             1               1   \n",
       "4   1665  79.0             1              0             1               0   \n",
       "\n",
       "   avg_glucose_level   bmi  gender_encoded_Female  gender_encoded_Male  \\\n",
       "0             228.69  36.6                      0                    1   \n",
       "1             202.21 -99.0                      1                    0   \n",
       "2             105.92  32.5                      0                    1   \n",
       "3             171.23  34.4                      1                    0   \n",
       "4             174.12  24.0                      1                    0   \n",
       "\n",
       "   gender_encoded_Other  work_type_encoded_Govt_job  \\\n",
       "0                     0                           0   \n",
       "1                     0                           0   \n",
       "2                     0                           0   \n",
       "3                     0                           0   \n",
       "4                     0                           0   \n",
       "\n",
       "   work_type_encoded_Never_worked  work_type_encoded_Private  \\\n",
       "0                               0                          1   \n",
       "1                               0                          0   \n",
       "2                               0                          1   \n",
       "3                               0                          1   \n",
       "4                               0                          0   \n",
       "\n",
       "   work_type_encoded_Self-employed  work_type_encoded_children  \\\n",
       "0                                0                           0   \n",
       "1                                1                           0   \n",
       "2                                0                           0   \n",
       "3                                0                           0   \n",
       "4                                1                           0   \n",
       "\n",
       "   smoking_status_encoded_Unknown  smoking_status_encoded_formerly smoked  \\\n",
       "0                               0                                       1   \n",
       "1                               0                                       0   \n",
       "2                               0                                       0   \n",
       "3                               0                                       0   \n",
       "4                               0                                       0   \n",
       "\n",
       "   smoking_status_encoded_never smoked  smoking_status_encoded_smokes  \n",
       "0                                    0                              0  \n",
       "1                                    1                              0  \n",
       "2                                    1                              0  \n",
       "3                                    0                              1  \n",
       "4                                    1                              0  "
      ]
     },
     "execution_count": 318,
     "metadata": {},
     "output_type": "execute_result"
    }
   ],
   "source": [
    "df1 = pd.concat([df1, datasetDummies_gender], axis=1)\n",
    "df1 = pd.concat([df1, datasetDummies_work_type], axis=1)\n",
    "df1 = pd.concat([df1, datasetDummies_smoking_status], axis=1)\n",
    "df1.head()"
   ]
  },
  {
   "cell_type": "code",
   "execution_count": 319,
   "metadata": {},
   "outputs": [
    {
     "data": {
      "image/png": "[encoded data removed]",
      "text/plain": [
       "<Figure size 432x288 with 1 Axes>"
      ]
     },
     "metadata": {
      "needs_background": "light"
     },
     "output_type": "display_data"
    }
   ],
   "source": [
    "target_count.plot(kind='bar')\n",
    "plt.title('Target = Stroke')\n",
    "plt.grid()\n",
    "plt.show()\n",
    "\n",
    "X_train, X_test, y_train, y_test = train_test_split(df1.iloc[:,1:], target1, test_size=0.30, random_state=42)"
   ]
  },
  {
   "cell_type": "markdown",
   "metadata": {},
   "source": [
    "## Feature Engineering"
   ]
  },
  {
   "cell_type": "code",
   "execution_count": 320,
   "metadata": {},
   "outputs": [
    {
     "name": "stderr",
     "output_type": "stream",
     "text": [
      "C:\\Users\\Daim\\Anaconda3\\lib\\site-packages\\sklearn\\ensemble\\forest.py:245: FutureWarning: The default value of n_estimators will change from 10 in version 0.20 to 100 in 0.22.\n",
      "  \"10 in version 0.20 to 100 in 0.22.\", FutureWarning)\n"
     ]
    },
    {
     "data": {
      "image/png": "[encoded data removed]",
      "text/plain": [
       "<Figure size 720x288 with 1 Axes>"
      ]
     },
     "metadata": {
      "needs_background": "light"
     },
     "output_type": "display_data"
    }
   ],
   "source": [
    "model = RandomForestClassifier()\n",
    "model.fit(X_train, y_train)\n",
    "  \n",
    "best_features = SelectFromModel(model)\n",
    "best_features.fit(X_train, y_train)\n",
    "features = df1.columns[1:]\n",
    "imp_feature = pd.DataFrame({'Feature': features, 'Importance': model.feature_importances_})\n",
    "plt.figure(figsize=(10,4))\n",
    "plt.title(\"Feature Importance Graphic\")\n",
    "plt.xlabel(\"importance \")\n",
    "plt.ylabel(\"features\")\n",
    "plt.barh(imp_feature['Feature'],imp_feature['Importance'],color = 'rgbkymc')\n",
    "plt.show()\n"
   ]
  },
  {
   "cell_type": "markdown",
   "metadata": {},
   "source": [
    "Will use only the five features namely bmi, avg_glucose_level , age, work_type_encoded_children and hypertension."
   ]
  },
  {
   "cell_type": "code",
   "execution_count": 321,
   "metadata": {},
   "outputs": [],
   "source": [
    "X_train = X_train[['bmi', 'avg_glucose_level', 'age', 'work_type_encoded_children' , 'hypertension']]"
   ]
  },
  {
   "cell_type": "markdown",
   "metadata": {},
   "source": [
    "## Model building"
   ]
  },
  {
   "cell_type": "code",
   "execution_count": 322,
   "metadata": {},
   "outputs": [
    {
     "name": "stdout",
     "output_type": "stream",
     "text": [
      "Epoch 1/10\n",
      "3577/3577 [==============================] - 5s 1ms/step - loss: 0.2434 - accuracy: 0.9318\n",
      "Epoch 2/10\n",
      "3577/3577 [==============================] - 1s 222us/step - loss: 0.1747 - accuracy: 0.9558\n",
      "Epoch 3/10\n",
      "3577/3577 [==============================] - 1s 190us/step - loss: 0.1680 - accuracy: 0.9555\n",
      "Epoch 4/10\n",
      "3577/3577 [==============================] - 1s 292us/step - loss: 0.1666 - accuracy: 0.9553\n",
      "Epoch 5/10\n",
      "3577/3577 [==============================] - 1s 200us/step - loss: 0.1633 - accuracy: 0.9553\n",
      "Epoch 6/10\n",
      "3577/3577 [==============================] - 1s 302us/step - loss: 0.1677 - accuracy: 0.95550s - loss: 0.162\n",
      "Epoch 7/10\n",
      "3577/3577 [==============================] - 1s 256us/step - loss: 0.1637 - accuracy: 0.9555\n",
      "Epoch 8/10\n",
      "3577/3577 [==============================] - 1s 275us/step - loss: 0.1652 - accuracy: 0.9553\n",
      "Epoch 9/10\n",
      "3577/3577 [==============================] - 1s 286us/step - loss: 0.1611 - accuracy: 0.9553\n",
      "Epoch 10/10\n",
      "3577/3577 [==============================] - 1s 320us/step - loss: 0.1651 - accuracy: 0.9553\n"
     ]
    },
    {
     "data": {
      "text/plain": [
       "<keras.callbacks.callbacks.History at 0x1f082bfce08>"
      ]
     },
     "execution_count": 322,
     "metadata": {},
     "output_type": "execute_result"
    }
   ],
   "source": [
    "model = Sequential()\n",
    "model.add(Dense(32, input_dim=5, activation='relu'))\n",
    "model.add(Dense(16, activation='relu'))\n",
    "model.add(Dense(8, activation='relu'))\n",
    "model.add(Dense(2, activation='softmax'))\n",
    "\n",
    "model.compile(loss='binary_crossentropy', optimizer='adam', metrics=['accuracy'])\n",
    "\n",
    "model.fit(X_train, y_train, epochs=10, batch_size=32)"
   ]
  },
  {
   "cell_type": "code",
   "execution_count": 323,
   "metadata": {},
   "outputs": [
    {
     "name": "stdout",
     "output_type": "stream",
     "text": [
      "[0.98422575 0.01577428] \n",
      " target_0    1\n",
      "target_1    0\n",
      "Name: 4688, dtype: uint8\n"
     ]
    }
   ],
   "source": [
    "prediction = model.predict(X_test[['bmi', 'avg_glucose_level', 'age', 'work_type_encoded_children' , 'hypertension']])\n",
    "print(prediction[0], '\\n',y_test.iloc[0])"
   ]
  },
  {
   "cell_type": "markdown",
   "metadata": {},
   "source": [
    "The predicted array have 2 values for each observation which is actually the probability of whether the stroke happens or not.  "
   ]
  },
  {
   "cell_type": "code",
   "execution_count": 333,
   "metadata": {},
   "outputs": [],
   "source": [
    "from itertools import combinations\n",
    "def powerset(string):\n",
    "    lis = []\n",
    "    for i in range(1,len(string)+1):\n",
    "        for element in combinations(string,i):\n",
    "            lis.append(element)\n",
    "    \n",
    "    return lis"
   ]
  },
  {
   "cell_type": "code",
   "execution_count": 334,
   "metadata": {},
   "outputs": [],
   "source": [
    "def directkb(data):\n",
    "    counts=dict()\n",
    "    kb = dict()\n",
    "    features = ['bmi', 'avg_glucose_level', 'age', 'work_type_encoded_children' , 'hypertension']\n",
    "    rang = len(data)\n",
    "    for i in range(0,rang):\n",
    "        feaVal = []\n",
    "        for ind in range(0,5):\n",
    "            feaVal.append((features[ind], data.iloc[i][ind]))\n",
    "        label= target[i]\n",
    "        s = powerset(feaVal)\n",
    "        for key in s:\n",
    "            if key in counts:\n",
    "                counts[key] = [counts[key][0]+1, counts[key][0]+label]\n",
    "            else:\n",
    "                counts[key] = [1,label]\n",
    "    for key in counts:\n",
    "        r = counts[key][1]/counts[key][0]\n",
    "        if r != 0 :\n",
    "            kb[key] = r\n",
    "    return kb"
   ]
  },
  {
   "cell_type": "code",
   "execution_count": 335,
   "metadata": {},
   "outputs": [],
   "source": [
    "kb_data = directkb(X_train.iloc[:,:])"
   ]
  },
  {
   "cell_type": "code",
   "execution_count": 344,
   "metadata": {},
   "outputs": [],
   "source": [
    "def relevant_kb(queries,kb):\n",
    "    for query in queries:\n",
    "        features = ['bmi', 'avg_glucose_level', 'age', 'work_type_encoded_children' , 'hypertension']\n",
    "        feaVal = []\n",
    "        rel_kb = dict()\n",
    "        for ind in range(0,5):\n",
    "                print(ind)\n",
    "                feaVal.append((features[ind], query[ind]))\n",
    "        s = powerset(feaVal)\n",
    "        for key in s:\n",
    "            for rel_key in kb:\n",
    "                if key == rel_key:\n",
    "                    rel_kb[key]=kb[rel_key]\n",
    "    return rel_kb"
   ]
  },
  {
   "cell_type": "code",
   "execution_count": 346,
   "metadata": {},
   "outputs": [
    {
     "ename": "IndexError",
     "evalue": "string index out of range",
     "output_type": "error",
     "traceback": [
      "\u001b[1;31m---------------------------------------------------------------------------\u001b[0m",
      "\u001b[1;31mIndexError\u001b[0m                                Traceback (most recent call last)",
      "\u001b[1;32m<ipython-input-346-19cf019bffde>\u001b[0m in \u001b[0;36m<module>\u001b[1;34m\u001b[0m\n\u001b[0;32m      1\u001b[0m \u001b[0mque\u001b[0m \u001b[1;33m=\u001b[0m \u001b[0mX_test\u001b[0m\u001b[1;33m[\u001b[0m\u001b[1;33m[\u001b[0m\u001b[1;34m'bmi'\u001b[0m\u001b[1;33m,\u001b[0m \u001b[1;34m'avg_glucose_level'\u001b[0m\u001b[1;33m,\u001b[0m \u001b[1;34m'age'\u001b[0m\u001b[1;33m,\u001b[0m \u001b[1;34m'work_type_encoded_children'\u001b[0m \u001b[1;33m,\u001b[0m \u001b[1;34m'hypertension'\u001b[0m\u001b[1;33m]\u001b[0m\u001b[1;33m]\u001b[0m\u001b[1;33m.\u001b[0m\u001b[0miloc\u001b[0m\u001b[1;33m[\u001b[0m\u001b[1;33m:\u001b[0m\u001b[1;36m1\u001b[0m\u001b[1;33m,\u001b[0m\u001b[1;33m:\u001b[0m\u001b[1;33m]\u001b[0m\u001b[1;33m\u001b[0m\u001b[1;33m\u001b[0m\u001b[0m\n\u001b[0;32m      2\u001b[0m \u001b[1;33m\u001b[0m\u001b[0m\n\u001b[1;32m----> 3\u001b[1;33m \u001b[0mrle\u001b[0m \u001b[1;33m=\u001b[0m \u001b[0mrelevant_kb\u001b[0m\u001b[1;33m(\u001b[0m\u001b[0mque\u001b[0m\u001b[1;33m,\u001b[0m \u001b[0mkb_data\u001b[0m\u001b[1;33m)\u001b[0m\u001b[1;33m\u001b[0m\u001b[1;33m\u001b[0m\u001b[0m\n\u001b[0m\u001b[0;32m      4\u001b[0m \u001b[0mprint\u001b[0m\u001b[1;33m(\u001b[0m\u001b[0mque\u001b[0m\u001b[1;33m)\u001b[0m\u001b[1;33m\u001b[0m\u001b[1;33m\u001b[0m\u001b[0m\n",
      "\u001b[1;32m<ipython-input-344-52727dee3935>\u001b[0m in \u001b[0;36mrelevant_kb\u001b[1;34m(queries, kb)\u001b[0m\n\u001b[0;32m      5\u001b[0m         \u001b[0mrel_kb\u001b[0m \u001b[1;33m=\u001b[0m \u001b[0mdict\u001b[0m\u001b[1;33m(\u001b[0m\u001b[1;33m)\u001b[0m\u001b[1;33m\u001b[0m\u001b[1;33m\u001b[0m\u001b[0m\n\u001b[0;32m      6\u001b[0m         \u001b[1;32mfor\u001b[0m \u001b[0mind\u001b[0m \u001b[1;32min\u001b[0m \u001b[0mrange\u001b[0m\u001b[1;33m(\u001b[0m\u001b[1;36m0\u001b[0m\u001b[1;33m,\u001b[0m\u001b[1;36m5\u001b[0m\u001b[1;33m)\u001b[0m\u001b[1;33m:\u001b[0m\u001b[1;33m\u001b[0m\u001b[1;33m\u001b[0m\u001b[0m\n\u001b[1;32m----> 7\u001b[1;33m                 \u001b[0mfeaVal\u001b[0m\u001b[1;33m.\u001b[0m\u001b[0mappend\u001b[0m\u001b[1;33m(\u001b[0m\u001b[1;33m(\u001b[0m\u001b[0mfeatures\u001b[0m\u001b[1;33m[\u001b[0m\u001b[0mind\u001b[0m\u001b[1;33m]\u001b[0m\u001b[1;33m,\u001b[0m \u001b[0mquery\u001b[0m\u001b[1;33m[\u001b[0m\u001b[0mind\u001b[0m\u001b[1;33m]\u001b[0m\u001b[1;33m)\u001b[0m\u001b[1;33m)\u001b[0m\u001b[1;33m\u001b[0m\u001b[1;33m\u001b[0m\u001b[0m\n\u001b[0m\u001b[0;32m      8\u001b[0m         \u001b[0ms\u001b[0m \u001b[1;33m=\u001b[0m \u001b[0mpowerset\u001b[0m\u001b[1;33m(\u001b[0m\u001b[0mfeaVal\u001b[0m\u001b[1;33m)\u001b[0m\u001b[1;33m\u001b[0m\u001b[1;33m\u001b[0m\u001b[0m\n\u001b[0;32m      9\u001b[0m         \u001b[1;32mfor\u001b[0m \u001b[0mkey\u001b[0m \u001b[1;32min\u001b[0m \u001b[0ms\u001b[0m\u001b[1;33m:\u001b[0m\u001b[1;33m\u001b[0m\u001b[1;33m\u001b[0m\u001b[0m\n",
      "\u001b[1;31mIndexError\u001b[0m: string index out of range"
     ]
    }
   ],
   "source": [
    "que = X_test[['bmi', 'avg_glucose_level', 'age', 'work_type_encoded_children' , 'hypertension']].iloc[:1,:]\n",
    "\n",
    "rle = relevant_kb(que, kb_data)\n",
    "print(que)"
   ]
  }
 ],
 "metadata": {
  "kernelspec": {
   "display_name": "Python 3",
   "language": "python",
   "name": "python3"
  },
  "language_info": {
   "codemirror_mode": {
    "name": "ipython",
    "version": 3
   },
   "file_extension": ".py",
   "mimetype": "text/x-python",
   "name": "python",
   "nbconvert_exporter": "python",
   "pygments_lexer": "ipython3",
   "version": "3.7.4"
  }
 },
 "nbformat": 4,
 "nbformat_minor": 2
}
